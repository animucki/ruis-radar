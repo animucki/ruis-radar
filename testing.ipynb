{
 "cells": [
  {
   "cell_type": "code",
   "execution_count": null,
   "id": "ddff5c39-dc15-41b5-af50-5c7721ccc195",
   "metadata": {},
   "outputs": [],
   "source": [
    "from scrapers.concertgebouw_scraper import scrape_concertgebouw\n",
    "from scrapers.muziekgebouw_scraper import scrape_muziekgebouw\n",
    "from scrapers.bimhuis_scraper import scrape_bimhuis\n",
    "from scrapers.occii_scraper import scrape_occii\n",
    "from scrapers.zaal100_scraper import scrape_zaal100\n",
    "from scrapers.cinetol_scraper import scrape_cinetol\n",
    "from scrapers.nieuwe_anita_scraper import scrape_nieuwe_anita\n",
    "from scrapers.vondelbunker_scraper import scrape_vondelbunker\n",
    "from scrapers.munganga_scraper import scrape_munganga\n",
    "from scrapers.plantage_dok_scraper import scrape_plantage_dok\n",
    "from scrapers.ot301_scraper import scrape_ot301"
   ]
  },
  {
   "cell_type": "code",
   "execution_count": null,
   "id": "44f59b1b-2709-4428-a5f3-d2d8d112f115",
   "metadata": {},
   "outputs": [],
   "source": [
    "scrape_concertgebouw(page=2, max_events=5)"
   ]
  },
  {
   "cell_type": "code",
   "execution_count": null,
   "id": "6117ff79-2865-4725-98b7-6077b4fdc494",
   "metadata": {},
   "outputs": [],
   "source": [
    "scrape_muziekgebouw(page=3, max_events=4)"
   ]
  },
  {
   "cell_type": "code",
   "execution_count": null,
   "id": "a9d285b1-463c-4120-a9f3-416aec6b87d3",
   "metadata": {},
   "outputs": [],
   "source": [
    "scrape_bimhuis(max_events=3)"
   ]
  },
  {
   "cell_type": "code",
   "execution_count": null,
   "id": "b7893e8f-aa41-4280-bea8-f7f7c3efdc95",
   "metadata": {},
   "outputs": [],
   "source": [
    "scrape_occii(max_events=4)"
   ]
  },
  {
   "cell_type": "code",
   "execution_count": null,
   "id": "59bfa6d9-4463-4824-96cc-9d483973cf79",
   "metadata": {},
   "outputs": [],
   "source": [
    "scrape_cinetol(max_events=10)"
   ]
  },
  {
   "cell_type": "code",
   "execution_count": null,
   "id": "4fbf088b-300c-45d5-895c-6898263ce73a",
   "metadata": {},
   "outputs": [],
   "source": [
    "scrape_nieuwe_anita(max_events=7)"
   ]
  },
  {
   "cell_type": "code",
   "execution_count": null,
   "id": "d3768daa-c2ab-4245-8cb7-babbd140e974",
   "metadata": {},
   "outputs": [],
   "source": [
    "scrape_vondelbunker()"
   ]
  },
  {
   "cell_type": "code",
   "execution_count": null,
   "id": "5920fba9-b687-4a20-b282-bceac49a664c",
   "metadata": {},
   "outputs": [],
   "source": [
    "scrape_munganga(max_events=None)"
   ]
  },
  {
   "cell_type": "code",
   "execution_count": null,
   "id": "ed777d34-b0a4-4b2b-80c2-0b88a4853cc9",
   "metadata": {},
   "outputs": [],
   "source": [
    "scrape_plantage_dok(month=\"2024-11\")"
   ]
  },
  {
   "cell_type": "code",
   "execution_count": null,
   "id": "5ac2a079-5fad-4fd8-8edc-c16c93dac812",
   "metadata": {},
   "outputs": [],
   "source": [
    "scrape_ot301(max_events=None)"
   ]
  },
  {
   "cell_type": "code",
   "execution_count": null,
   "id": "656bc211-ac30-4211-bede-70a3e27a1ad4",
   "metadata": {},
   "outputs": [],
   "source": []
  }
 ],
 "metadata": {
  "kernelspec": {
   "display_name": "Python 3 (ipykernel)",
   "language": "python",
   "name": "python3"
  },
  "language_info": {
   "codemirror_mode": {
    "name": "ipython",
    "version": 3
   },
   "file_extension": ".py",
   "mimetype": "text/x-python",
   "name": "python",
   "nbconvert_exporter": "python",
   "pygments_lexer": "ipython3",
   "version": "3.12.3"
  }
 },
 "nbformat": 4,
 "nbformat_minor": 5
}
