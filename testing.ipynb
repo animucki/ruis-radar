{
 "cells": [
  {
   "cell_type": "code",
   "execution_count": 1,
   "id": "ddff5c39-dc15-41b5-af50-5c7721ccc195",
   "metadata": {},
   "outputs": [],
   "source": [
    "from scrapers.concertgebouw_scraper import scrape_concertgebouw\n",
    "from scrapers.muziekgebouw_scraper import scrape_muziekgebouw\n",
    "from scrapers.bimhuis_scraper import scrape_bimhuis\n",
    "from scrapers.occii_scraper import scrape_occii\n",
    "from scrapers.zaal301_scraper import scrape_zaal301"
   ]
  },
  {
   "cell_type": "code",
   "execution_count": null,
   "id": "44f59b1b-2709-4428-a5f3-d2d8d112f115",
   "metadata": {},
   "outputs": [],
   "source": [
    "scrape_concertgebouw(page=2, max_events=5)"
   ]
  },
  {
   "cell_type": "code",
   "execution_count": null,
   "id": "6117ff79-2865-4725-98b7-6077b4fdc494",
   "metadata": {},
   "outputs": [],
   "source": [
    "scrape_muziekgebouw(page=3, max_events=4)"
   ]
  },
  {
   "cell_type": "code",
   "execution_count": null,
   "id": "a9d285b1-463c-4120-a9f3-416aec6b87d3",
   "metadata": {},
   "outputs": [],
   "source": [
    "scrape_bimhuis(max_events=3)"
   ]
  },
  {
   "cell_type": "code",
   "execution_count": null,
   "id": "b7893e8f-aa41-4280-bea8-f7f7c3efdc95",
   "metadata": {},
   "outputs": [],
   "source": [
    "scrape_occii(max_events = 4)"
   ]
  },
  {
   "cell_type": "code",
   "execution_count": 2,
   "id": "63c5c32e-c550-4d33-994a-72d3bf01f6b3",
   "metadata": {},
   "outputs": [
    {
     "data": {
      "text/plain": [
       "[{'venue': 'Zaal 100',\n",
       "  'date': '2024-11-09',\n",
       "  'name': 'DJAM combo optredens & jamsessie',\n",
       "  'time': '15:00',\n",
       "  'link': 'https://zaal100.nl/event/11-03-23-djam-2-2-2-2-2-2-2-2/',\n",
       "  'picture': 'https://zaal100.nl/media/2022/04/275434953_4904322176315931_1193518500407213599_n.jpg',\n",
       "  'description': 'Maandelijkse presentatie en jam o.l.v. DJAM docenten'},\n",
       " {'venue': 'Zaal 100',\n",
       "  'date': '2024-11-09',\n",
       "  'name': 'De Lelijke Eendjes presenteren Hotel De Zevende Hemel',\n",
       "  'time': '20:30',\n",
       "  'link': 'https://zaal100.nl/event/09-nov-24-de-lelijke-eendjes-presenteren-hotel-de-zevende-hemel/',\n",
       "  'picture': 'https://zaal100.nl/media/2024/10/eendjes-hotel-1024x1024.jpg',\n",
       "  'description': 'Improvisatietheater'},\n",
       " {'venue': 'Zaal 100',\n",
       "  'date': '2024-11-10',\n",
       "  'name': 'Westside Blues',\n",
       "  'time': '15:00',\n",
       "  'link': 'https://zaal100.nl/event/10-nov-24-abc/',\n",
       "  'picture': 'https://zaal100.nl/media/2024/10/abc-Poster-n0vember24.jpeg',\n",
       "  'description': 'Amsterdam Blues Company presenteert: Met Bart van der Putten, Sander Panhuysen, Minco Coenraad en Fred Cohen'},\n",
       " {'venue': 'Zaal 100',\n",
       "  'date': '2024-11-11',\n",
       "  'name': 'The International Racketeers Fanclub',\n",
       "  'time': '18:00',\n",
       "  'link': 'https://zaal100.nl/event/11-nov-24-goeie-zin/',\n",
       "  'picture': 'https://zaal100.nl/media/2023/03/274868719_5003804856343816_3230963923816364587_n-1024x683.jpg',\n",
       "  'description': 'Elke maandag Goeie Zin! Twee mannen met gitaren, banjo, dobro, mandoline en humor. Americana folk - pop - rock.'},\n",
       " {'venue': 'Zaal 100',\n",
       "  'date': '2024-11-12',\n",
       "  'name': 'Jazzcafé!',\n",
       "  'time': '21:00',\n",
       "  'link': 'https://zaal100.nl/event/impro-jazz-07-02-23-2-2-2-2-2-2-2-3-2-2-2-2-2-2-2-2-2-2-2-2-2-2-2-2-2-2-2-2-2-2-2-2-2-2-2-2-2-2-2-2-2-2-2-2-2-2-2-2-2-4/',\n",
       "  'picture': 'https://zaal100.nl/wp-content/themes/zaal100/assets/img/misc/diashow-default.jpg',\n",
       "  'description': 'Elke dinsdag: Met: Lisa Cay Miller - piano, Aaron Lumley - bas, Giuseppe Doronzo - bariton sax, Marielle Groven - viool, Oguz Buyukberber - basklarinet'},\n",
       " {'venue': 'Zaal 100',\n",
       "  'date': '2024-11-13',\n",
       "  'name': 'Amsterdam Jazz Trio ft. Boris van der Lek',\n",
       "  'time': '20:00',\n",
       "  'link': 'https://zaal100.nl/event/13-nov-24-amsterdam-jazz-trio/',\n",
       "  'picture': 'https://zaal100.nl/media/2024/11/Amsterdam-Jazz-Trio-Boris-van-der-Lek-photo-by-Roy-Beusker-1-901x1024.jpg',\n",
       "  'description': \"Nieuwe interpretaties van 'klassieke' jazz Met: Boris van der Lek - tenorsax, Jochem Braat - piano, Tijn Jans - drums, Adrie Braat - bas\"},\n",
       " {'venue': 'Zaal 100',\n",
       "  'date': '2024-11-14',\n",
       "  'name': 'Restaurant: Sisi & Sevgi koken',\n",
       "  'time': '18:00',\n",
       "  'link': 'https://zaal100.nl/event/1101-sisi-sevgi-koken-2-2-2-2-2-2-2-2-2-2-2-2-2-2-2-2-2-2-2-2-2-2-2-2-2-2-2-2-2-3/',\n",
       "  'picture': 'https://zaal100.nl/media/2024/09/sisi-september-rotated.jpg',\n",
       "  'description': 'Elke donderdag:'},\n",
       " {'venue': 'Zaal 100',\n",
       "  'date': '2024-11-14',\n",
       "  'name': 'Oktopedians',\n",
       "  'time': '20:30',\n",
       "  'link': 'https://zaal100.nl/event/18-jan-18-oktopedians-2-2-2-3-5-3-9-3-3-4-2-2-2-2-2-2-2-2-2-2-2-2-2-2-2-2-2-2-2-2-2-2-2-2-2-2-2-2-2-2-2-3-2-2-2-2-2-2-2-2-2-2-2-2-2-2-2-2-2-2-2-2-2-2-2-2-2-2-2-2-2-2-2-2/',\n",
       "  'picture': 'https://zaal100.nl/media/2017/12/arthur_2016-11_7668-1024x680.jpg',\n",
       "  'description': 'Elke donderdag: Oudste workshoporkest ter wereld'},\n",
       " {'venue': 'Zaal 100',\n",
       "  'date': '2024-11-14',\n",
       "  'name': 'Modeltekenen met Chiel en Lucy',\n",
       "  'time': '20:30',\n",
       "  'link': 'https://zaal100.nl/event/14-nov-24-modeltekenen/',\n",
       "  'picture': 'https://zaal100.nl/wp-content/themes/zaal100/assets/img/misc/diashow-default.jpg',\n",
       "  'description': ''},\n",
       " {'venue': 'Zaal 100',\n",
       "  'date': '2024-11-15',\n",
       "  'name': \"Parkland Music Project 'Stoic Creatures' live at Zaal 100\",\n",
       "  'time': '20:00',\n",
       "  'link': 'https://zaal100.nl/event/15-nov-24-parkland-music-project-stoic-creatures-live-at-zaal-100/',\n",
       "  'picture': 'https://zaal100.nl/media/2024/11/Parkland_Promo_2024-824x1024.jpg',\n",
       "  'description': 'Heart-laid-bare songwriting in ecstatic free jazz and shoegazing post-rock arrangements Met: Rob Malowany - zang, Jasper Stadhouders - gitaar, Onno Govaert - drums, Marielle Groven - keyboards / viool en Aaron Lumley - contrabas'}]"
      ]
     },
     "execution_count": 2,
     "metadata": {},
     "output_type": "execute_result"
    }
   ],
   "source": [
    "scrape_zaal301(max_events = 4)"
   ]
  },
  {
   "cell_type": "code",
   "execution_count": 2,
   "id": "c409a719-7bf8-4dac-b408-43c4670bdc36",
   "metadata": {},
   "outputs": [
    {
     "name": "stdout",
     "output_type": "stream",
     "text": [
      "<article class=\"agenda-item galerie\">\n",
      " <a href=\"https://zaal100.nl/expositie/1188-2/\" title=\"expo\">\n",
      "  <div class=\"galerie100 floatleft clear bgoffwhite bortop\">\n",
      "   <div class=\"dagdatummaand\">\n",
      "    <div class=\"dag floatleft\">\n",
      "     galerie\n",
      "    </div>\n",
      "    <div class=\"datummaand\">\n",
      "     <span class=\"maand\">\n",
      "      100\n",
      "     </span>\n",
      "    </div>\n",
      "   </div>\n",
      "  </div>\n",
      "  <div class=\"gebeurtenis floatleft bgoffwhite bortop\">\n",
      "   <h4 class=\"voor-titel\">\n",
      "    Expo van de maand\n",
      "   </h4>\n",
      "   <h2 class=\"titel\">\n",
      "    Expositie Aja Waalwijk (schilderijen) en Maarten van der Horst (collages)\n",
      "   </h2>\n",
      "  </div>\n",
      " </a>\n",
      "</article>\n",
      "\n"
     ]
    }
   ],
   "source": [
    "from datetime import datetime\n",
    "\n",
    "import requests\n",
    "from bs4 import BeautifulSoup\n",
    "\n",
    "from config import venues\n",
    "\n",
    "url=venues[\"Zaal 100\"]\n",
    "\n",
    "response = requests.get(url)\n",
    "soup = BeautifulSoup(response.text, \"html.parser\")\n",
    "\n",
    "event = soup.select(\"article.agenda-item\")[0]\n",
    "print(event.prettify())\n"
   ]
  },
  {
   "cell_type": "code",
   "execution_count": 4,
   "id": "57ce4ae7-2877-4f13-b563-6a1b86c33f09",
   "metadata": {},
   "outputs": [
    {
     "name": "stdout",
     "output_type": "stream",
     "text": [
      "<article class=\"agenda-item\">\n",
      " <a href=\"https://zaal100.nl/event/10-nov-24-abc/\" title=\"10 nov 24 Amsterdam Blues Company\">\n",
      "  <div class=\"dagdatumtijdprijs floatleft clear bgoffwhite bortop\">\n",
      "   <div class=\"dagdatummaand\">\n",
      "    <div class=\"dag floatleft\">\n",
      "     zo\n",
      "    </div>\n",
      "    <div class=\"datummaand\">\n",
      "     <span class=\"datum\">\n",
      "      10\n",
      "     </span>\n",
      "     <span class=\"maand\">\n",
      "      11\n",
      "     </span>\n",
      "    </div>\n",
      "   </div>\n",
      "   <div class=\"tijdprijs floatleft bortop\">\n",
      "    <div class=\"tijd floatleft\">\n",
      "     15:00\n",
      "    </div>\n",
      "    <div class=\"prijs\">\n",
      "     € 10,00\n",
      "    </div>\n",
      "   </div>\n",
      "  </div>\n",
      "  <div class=\"gebeurtenis floatleft bgoffwhite bortop\">\n",
      "   <h4 class=\"voor-titel\">\n",
      "    Amsterdam Blues Company presenteert:\n",
      "   </h4>\n",
      "   <h2 class=\"titel\">\n",
      "    Westside Blues\n",
      "   </h2>\n",
      "   <h5 class=\"na-titel\">\n",
      "    Met Bart van der Putten, Sander Panhuysen, Minco Coenraad en Fred Cohen\n",
      "   </h5>\n",
      "  </div>\n",
      " </a>\n",
      "</article>\n",
      "\n"
     ]
    }
   ],
   "source": [
    "event = soup.select(\"article.agenda-item\")[3]\n",
    "print(event.prettify())"
   ]
  },
  {
   "cell_type": "code",
   "execution_count": null,
   "id": "05827e2c-a754-4871-a762-1390e52ef586",
   "metadata": {},
   "outputs": [],
   "source": []
  }
 ],
 "metadata": {
  "kernelspec": {
   "display_name": "Python 3 (ipykernel)",
   "language": "python",
   "name": "python3"
  },
  "language_info": {
   "codemirror_mode": {
    "name": "ipython",
    "version": 3
   },
   "file_extension": ".py",
   "mimetype": "text/x-python",
   "name": "python",
   "nbconvert_exporter": "python",
   "pygments_lexer": "ipython3",
   "version": "3.12.3"
  }
 },
 "nbformat": 4,
 "nbformat_minor": 5
}
