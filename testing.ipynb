{
 "cells": [
  {
   "cell_type": "code",
   "execution_count": 1,
   "id": "ddff5c39-dc15-41b5-af50-5c7721ccc195",
   "metadata": {},
   "outputs": [],
   "source": [
    "from scrapers.concertgebouw_scraper import scrape_concertgebouw\n",
    "from scrapers.muziekgebouw_scraper import scrape_muziekgebouw\n",
    "from scrapers.bimhuis_scraper import scrape_bimhuis\n",
    "from scrapers.occii_scraper import scrape_occii\n",
    "from scrapers.zaal100_scraper import scrape_zaal100\n",
    "from scrapers.cinetol_scraper import scrape_cinetol\n",
    "from scrapers.nieuwe_anita_scraper import scrape_nieuwe_anita\n",
    "from scrapers.vondelbunker_scraper import scrape_vondelbunker\n",
    "from scrapers.munganga_scraper import scrape_munganga\n",
    "from scrapers.plantage_dok_scraper import scrape_plantage_dok\n",
    "from scrapers.ot301_scraper import scrape_ot301\n",
    "from scrapers.de_ruimte_scraper import scrape_de_ruimte\n",
    "from scrapers.cavia_scraper import scrape_cavia"
   ]
  },
  {
   "cell_type": "code",
   "execution_count": 2,
   "id": "44f59b1b-2709-4428-a5f3-d2d8d112f115",
   "metadata": {},
   "outputs": [],
   "source": [
    "# scrape_concertgebouw(page=2, max_events=5)"
   ]
  },
  {
   "cell_type": "code",
   "execution_count": 3,
   "id": "6117ff79-2865-4725-98b7-6077b4fdc494",
   "metadata": {},
   "outputs": [],
   "source": [
    "# scrape_muziekgebouw(page=3, max_events=4)"
   ]
  },
  {
   "cell_type": "code",
   "execution_count": 4,
   "id": "a9d285b1-463c-4120-a9f3-416aec6b87d3",
   "metadata": {},
   "outputs": [],
   "source": [
    "# scrape_bimhuis(max_events=3)"
   ]
  },
  {
   "cell_type": "code",
   "execution_count": 5,
   "id": "b7893e8f-aa41-4280-bea8-f7f7c3efdc95",
   "metadata": {},
   "outputs": [],
   "source": [
    "# scrape_occii(max_events=4)"
   ]
  },
  {
   "cell_type": "code",
   "execution_count": 6,
   "id": "59bfa6d9-4463-4824-96cc-9d483973cf79",
   "metadata": {},
   "outputs": [],
   "source": [
    "# scrape_cinetol(max_events=10)"
   ]
  },
  {
   "cell_type": "code",
   "execution_count": 7,
   "id": "4fbf088b-300c-45d5-895c-6898263ce73a",
   "metadata": {},
   "outputs": [],
   "source": [
    "# scrape_nieuwe_anita(max_events=7)"
   ]
  },
  {
   "cell_type": "code",
   "execution_count": 8,
   "id": "d3768daa-c2ab-4245-8cb7-babbd140e974",
   "metadata": {},
   "outputs": [],
   "source": [
    "# scrape_vondelbunker()"
   ]
  },
  {
   "cell_type": "code",
   "execution_count": 9,
   "id": "5920fba9-b687-4a20-b282-bceac49a664c",
   "metadata": {},
   "outputs": [],
   "source": [
    "# scrape_munganga(max_events=None)"
   ]
  },
  {
   "cell_type": "code",
   "execution_count": 10,
   "id": "ed777d34-b0a4-4b2b-80c2-0b88a4853cc9",
   "metadata": {},
   "outputs": [],
   "source": [
    "# scrape_plantage_dok(month=\"2024-11\")"
   ]
  },
  {
   "cell_type": "code",
   "execution_count": 11,
   "id": "5ac2a079-5fad-4fd8-8edc-c16c93dac812",
   "metadata": {},
   "outputs": [],
   "source": [
    "# scrape_ot301(max_events=None)"
   ]
  },
  {
   "cell_type": "code",
   "execution_count": 12,
   "id": "656bc211-ac30-4211-bede-70a3e27a1ad4",
   "metadata": {},
   "outputs": [],
   "source": [
    "# scrape_de_ruimte()"
   ]
  },
  {
   "cell_type": "code",
   "execution_count": 13,
   "id": "f601c2af-9380-4b6f-8e0e-4f93cd0a2e45",
   "metadata": {},
   "outputs": [
    {
     "data": {
      "text/plain": [
       "[{'venue': 'Filmhuis Cavia',\n",
       "  'date': '30 oktober t/m 3 november',\n",
       "  'time': '',\n",
       "  'name': 'Amsterdam Film Meeting',\n",
       "  'link': 'https://www.filmhuiscavia.nl/',\n",
       "  'picture': '/application/files/thumbnails/small/8717/2720/8707/O-PALACIO-DOS-ANJOS-.jpg',\n",
       "  'description': '  NL Van 30 oktober tot en met 3 novembe'},\n",
       " {'venue': 'Filmhuis Cavia',\n",
       "  'date': '2024-11-08',\n",
       "  'time': '20:30',\n",
       "  'name': 'Surrender Your Horns\\xa0 + Q&A',\n",
       "  'link': 'https://www.filmhuiscavia.nl/',\n",
       "  'picture': '/application/files/thumbnails/small/4917/2927/9831/surrender-your-horns2-.jpg',\n",
       "  'description': 'Bryony Dunne | 2022 | Ierland | 61’ | En'},\n",
       " {'venue': 'Filmhuis Cavia',\n",
       "  'date': '2024-11-09',\n",
       "  'time': '18:00',\n",
       "  'name': 'Split Vision: selected films by Astrid Ardagh & Michael Bucuzzo + Q&A',\n",
       "  'link': 'https://www.filmhuiscavia.nl/',\n",
       "  'picture': '/application/files/thumbnails/small/4017/2927/9832/split-vision-Har-du-sett-ho-.jpg',\n",
       "  'description': '  EN In celebration of being awarded the'},\n",
       " {'venue': 'Filmhuis Cavia',\n",
       "  'date': '2024-11-10',\n",
       "  'time': '14:00',\n",
       "  'name': 'Asian Movie night: Don’t Feed the Stray Cats',\n",
       "  'link': 'https://www.filmhuiscavia.nl/',\n",
       "  'picture': '/application/files/thumbnails/small/8017/2944/9271/dont-feed-the-stray-cat2-.jpg',\n",
       "  'description': 'Kim Heeju & Jeong Juhee | 2020 | KR | 79'},\n",
       " {'venue': 'Filmhuis Cavia',\n",
       "  'date': '2024-11-15',\n",
       "  'time': '20:30',\n",
       "  'name': 'The River Flows Both Ways: a collective screening of new films by NL-based artist-filmmakers',\n",
       "  'link': 'https://www.filmhuiscavia.nl/',\n",
       "  'picture': '/application/files/thumbnails/small/4817/2928/0792/The-River-Flows-Both-Ways-heavenlyharrowing-.jpg',\n",
       "  'description': 'A collection of films by Jasper Coppes, '},\n",
       " {'venue': 'Filmhuis Cavia',\n",
       "  'date': '2024-11-20',\n",
       "  'time': '20:30',\n",
       "  'name': 'Your Bros. Filmmaking Group: selected short films',\n",
       "  'link': 'https://www.filmhuiscavia.nl/',\n",
       "  'picture': '/application/files/thumbnails/small/9117/2928/4864/your-bros-.jpg',\n",
       "  'description': 'EN Your Bros. Filmmaking Group is a Taiw'},\n",
       " {'venue': 'Filmhuis Cavia',\n",
       "  'date': '2024-11-22',\n",
       "  'time': '20:30',\n",
       "  'name': 'Polish Prayers',\n",
       "  'link': 'https://www.filmhuiscavia.nl/',\n",
       "  'picture': '/application/files/thumbnails/small/9017/2928/5396/polish-prayers2-.jpg',\n",
       "  'description': 'Hanka Nobis | 2022 | Zwitserland, Polen '},\n",
       " {'venue': 'Filmhuis Cavia',\n",
       "  'date': '2024-11-29',\n",
       "  'time': '20:30',\n",
       "  'name': 'Kissable Screens: From Okinawa with Love',\n",
       "  'link': 'https://www.filmhuiscavia.nl/',\n",
       "  'picture': '/application/files/thumbnails/small/2217/3117/3985/okinawa-love-.jpg',\n",
       "  'description': 'Hiroshi Sunairi | 2022 | Japan, USA | 10'}]"
      ]
     },
     "execution_count": 13,
     "metadata": {},
     "output_type": "execute_result"
    }
   ],
   "source": [
    "scrape_cavia()"
   ]
  },
  {
   "cell_type": "code",
   "execution_count": null,
   "id": "902821d6-d634-4a14-b210-33b37e9d89b2",
   "metadata": {},
   "outputs": [],
   "source": []
  }
 ],
 "metadata": {
  "kernelspec": {
   "display_name": "Python 3 (ipykernel)",
   "language": "python",
   "name": "python3"
  },
  "language_info": {
   "codemirror_mode": {
    "name": "ipython",
    "version": 3
   },
   "file_extension": ".py",
   "mimetype": "text/x-python",
   "name": "python",
   "nbconvert_exporter": "python",
   "pygments_lexer": "ipython3",
   "version": "3.12.3"
  }
 },
 "nbformat": 4,
 "nbformat_minor": 5
}
