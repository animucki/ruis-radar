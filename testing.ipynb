{
 "cells": [
  {
   "cell_type": "code",
   "execution_count": null,
   "id": "ddff5c39-dc15-41b5-af50-5c7721ccc195",
   "metadata": {},
   "outputs": [],
   "source": [
    "from scrapers.concertgebouw_scraper import scrape_concertgebouw\n",
    "from scrapers.muziekgebouw_scraper import scrape_muziekgebouw\n",
    "from scrapers.bimhuis_scraper import scrape_bimhuis\n",
    "from scrapers.occii_scraper import scrape_occii"
   ]
  },
  {
   "cell_type": "code",
   "execution_count": null,
   "id": "44f59b1b-2709-4428-a5f3-d2d8d112f115",
   "metadata": {},
   "outputs": [],
   "source": [
    "scrape_concertgebouw(page=2, max_events=5)"
   ]
  },
  {
   "cell_type": "code",
   "execution_count": null,
   "id": "6117ff79-2865-4725-98b7-6077b4fdc494",
   "metadata": {},
   "outputs": [],
   "source": [
    "scrape_muziekgebouw(page=3, max_events=4)"
   ]
  },
  {
   "cell_type": "code",
   "execution_count": null,
   "id": "a9d285b1-463c-4120-a9f3-416aec6b87d3",
   "metadata": {},
   "outputs": [],
   "source": [
    "scrape_bimhuis(max_events=3)"
   ]
  },
  {
   "cell_type": "code",
   "execution_count": null,
   "id": "b7893e8f-aa41-4280-bea8-f7f7c3efdc95",
   "metadata": {},
   "outputs": [],
   "source": [
    "scrape_occii(max_events = 4)"
   ]
  },
  {
   "cell_type": "code",
   "execution_count": null,
   "id": "16535f28-3cf1-4492-9026-67097a15e5f0",
   "metadata": {},
   "outputs": [],
   "source": [
    "from datetime import datetime\n",
    "\n",
    "import requests\n",
    "from bs4 import BeautifulSoup\n",
    "\n",
    "from config import venues\n",
    "\n",
    "def _parse_occ_date(date_str):\n",
    "    # Parse OCCII date format like \"Saturday, November 9\" into an ISO date (YYYY-MM-DD).\n",
    "    try:\n",
    "        return datetime.strptime(date_str.strip(), \"%A, %B %d\").replace(year=datetime.now().year).strftime(\"%Y-%m-%d\")\n",
    "    except ValueError:\n",
    "        return None  # Handle parsing errors if any\n",
    "\n",
    "url=venues[\"Occii\"]\n",
    "\n",
    "response = requests.get(url)\n",
    "soup = BeautifulSoup(response.text, \"html.parser\")\n",
    "\n",
    "event = soup.select(\"div.occii-event-display\")[0]\n",
    "\n",
    "# Event image URL\n",
    "img_element = event.select_one(\"div.occii-event-display-image img\")\n",
    "img_url = img_element[\"src\"] if img_element else None\n",
    "\n",
    "# Event title and link\n",
    "title_element = event.select_one(\"h3.occii-event-link a\")\n",
    "title = title_element.get_text(strip=True) if title_element else \"No title available\"\n",
    "link = title_element[\"href\"] if title_element else \"#\"\n",
    "\n",
    "# Event date and time\n",
    "date_time_element = event.select_one(\"p.occii-event-times\")\n",
    "date_str, *time_parts = date_time_element.get_text().splitlines()\n",
    "date = _parse_occ_date(date_str)\n",
    "time = time_parts[0].replace(\"Doors open: \", \"\").strip() if time_parts else \"No time available\"\n",
    "\n",
    "# Event description\n",
    "description_element = event.select_one(\"p.occii-events-description\")\n",
    "description = description_element.get_text(strip=True) if description_element else \"No description available\""
   ]
  },
  {
   "cell_type": "code",
   "execution_count": null,
   "id": "98db0ea5-ac32-4809-9478-4ff23774d49b",
   "metadata": {},
   "outputs": [],
   "source": [
    "date_str"
   ]
  },
  {
   "cell_type": "code",
   "execution_count": null,
   "id": "63c5c32e-c550-4d33-994a-72d3bf01f6b3",
   "metadata": {},
   "outputs": [],
   "source": []
  }
 ],
 "metadata": {
  "kernelspec": {
   "display_name": "Python 3 (ipykernel)",
   "language": "python",
   "name": "python3"
  },
  "language_info": {
   "codemirror_mode": {
    "name": "ipython",
    "version": 3
   },
   "file_extension": ".py",
   "mimetype": "text/x-python",
   "name": "python",
   "nbconvert_exporter": "python",
   "pygments_lexer": "ipython3",
   "version": "3.12.3"
  }
 },
 "nbformat": 4,
 "nbformat_minor": 5
}
